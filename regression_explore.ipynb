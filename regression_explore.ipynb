{
 "cells": [
  {
   "cell_type": "markdown",
   "source": [
    "# regression explore\n",
    "\n",
    "- Factor returns and test for significance (not zero)\n",
    "- DJIA returns against factor returns\n",
    "- stock returns against factor returns"
   ],
   "metadata": {
    "collapsed": false
   },
   "id": "51dfb1b0c553b01e"
  },
  {
   "cell_type": "markdown",
   "source": [
    "## Data"
   ],
   "metadata": {
    "collapsed": false
   },
   "id": "7a951a4900236cc5"
  },
  {
   "cell_type": "code",
   "execution_count": 1,
   "outputs": [],
   "source": [
    "import pandas as pd\n",
    "\n",
    "factor_returns = pd.read_csv('data/factor_returns.csv', index_col=0, parse_dates=True)\n",
    "djia_returns = pd.read_csv('data/DJIA.csv', index_col=0, parse_dates=True)"
   ],
   "metadata": {
    "collapsed": false,
    "ExecuteTime": {
     "end_time": "2025-01-31T16:45:33.944435Z",
     "start_time": "2025-01-31T16:45:33.776259Z"
    }
   },
   "id": "e853e38696ab7b1f"
  },
  {
   "cell_type": "markdown",
   "source": [
    "## Factor returns and test for significance (not zero)\n",
    "\n",
    "1. average factor returns (annualized)\n",
    "2. t-test for factor returns"
   ],
   "metadata": {
    "collapsed": false
   },
   "id": "f446fad67812ff5a"
  },
  {
   "cell_type": "code",
   "execution_count": 2,
   "outputs": [
    {
     "data": {
      "text/plain": "mktrf    0.100966\nsmb      0.005043\nhml     -0.001642\nrmw      0.040979\ncma      0.002449\nrf       0.013453\numd      0.011039\ndtype: float64"
     },
     "execution_count": 2,
     "metadata": {},
     "output_type": "execute_result"
    }
   ],
   "source": [
    "# Factor returns (annualized)\n",
    "(factor_returns.mean() + 1) ** 52 - 1"
   ],
   "metadata": {
    "collapsed": false,
    "ExecuteTime": {
     "end_time": "2025-01-31T16:45:33.952720Z",
     "start_time": "2025-01-31T16:45:33.947138Z"
    }
   },
   "id": "d6fc4ba0f7034d92"
  },
  {
   "cell_type": "code",
   "execution_count": 3,
   "outputs": [
    {
     "data": {
      "text/plain": "               mktrf       smb       hml       rmw       cma       rf  \\\ndate                                                                    \n2004-01-09  0.014692  0.011545  0.011837 -0.031015  0.027469  0.00015   \n2004-01-16  0.017361  0.009913  0.009712 -0.021018  0.018302  0.00015   \n2004-01-23  0.003278  0.007970  0.007807  0.013115 -0.010812  0.00012   \n2004-01-30 -0.011946 -0.013974 -0.009902  0.009665 -0.008218  0.00015   \n2004-02-06  0.009092 -0.004665 -0.001827  0.008969 -0.005498  0.00015   \n...              ...       ...       ...       ...       ...      ...   \n2023-12-01  0.010108  0.019615  0.017470 -0.012658  0.004690  0.00105   \n2023-12-08  0.002140  0.010579  0.009969 -0.005301  0.003563  0.00105   \n2023-12-15  0.027117  0.020715  0.017806 -0.011688  0.006181  0.00105   \n2023-12-22  0.008518  0.020020  0.005484 -0.004967 -0.000707  0.00105   \n2023-12-29  0.001980 -0.005294  0.001886 -0.002835 -0.002101  0.00084   \n\n                 umd  \ndate                  \n2004-01-09  0.024227  \n2004-01-16  0.016675  \n2004-01-23 -0.012367  \n2004-01-30 -0.012953  \n2004-02-06 -0.002957  \n...              ...  \n2023-12-01 -0.021881  \n2023-12-08 -0.003411  \n2023-12-15 -0.022346  \n2023-12-22  0.003913  \n2023-12-29 -0.004903  \n\n[1043 rows x 7 columns]",
      "text/html": "<div>\n<style scoped>\n    .dataframe tbody tr th:only-of-type {\n        vertical-align: middle;\n    }\n\n    .dataframe tbody tr th {\n        vertical-align: top;\n    }\n\n    .dataframe thead th {\n        text-align: right;\n    }\n</style>\n<table border=\"1\" class=\"dataframe\">\n  <thead>\n    <tr style=\"text-align: right;\">\n      <th></th>\n      <th>mktrf</th>\n      <th>smb</th>\n      <th>hml</th>\n      <th>rmw</th>\n      <th>cma</th>\n      <th>rf</th>\n      <th>umd</th>\n    </tr>\n    <tr>\n      <th>date</th>\n      <th></th>\n      <th></th>\n      <th></th>\n      <th></th>\n      <th></th>\n      <th></th>\n      <th></th>\n    </tr>\n  </thead>\n  <tbody>\n    <tr>\n      <th>2004-01-09</th>\n      <td>0.014692</td>\n      <td>0.011545</td>\n      <td>0.011837</td>\n      <td>-0.031015</td>\n      <td>0.027469</td>\n      <td>0.00015</td>\n      <td>0.024227</td>\n    </tr>\n    <tr>\n      <th>2004-01-16</th>\n      <td>0.017361</td>\n      <td>0.009913</td>\n      <td>0.009712</td>\n      <td>-0.021018</td>\n      <td>0.018302</td>\n      <td>0.00015</td>\n      <td>0.016675</td>\n    </tr>\n    <tr>\n      <th>2004-01-23</th>\n      <td>0.003278</td>\n      <td>0.007970</td>\n      <td>0.007807</td>\n      <td>0.013115</td>\n      <td>-0.010812</td>\n      <td>0.00012</td>\n      <td>-0.012367</td>\n    </tr>\n    <tr>\n      <th>2004-01-30</th>\n      <td>-0.011946</td>\n      <td>-0.013974</td>\n      <td>-0.009902</td>\n      <td>0.009665</td>\n      <td>-0.008218</td>\n      <td>0.00015</td>\n      <td>-0.012953</td>\n    </tr>\n    <tr>\n      <th>2004-02-06</th>\n      <td>0.009092</td>\n      <td>-0.004665</td>\n      <td>-0.001827</td>\n      <td>0.008969</td>\n      <td>-0.005498</td>\n      <td>0.00015</td>\n      <td>-0.002957</td>\n    </tr>\n    <tr>\n      <th>...</th>\n      <td>...</td>\n      <td>...</td>\n      <td>...</td>\n      <td>...</td>\n      <td>...</td>\n      <td>...</td>\n      <td>...</td>\n    </tr>\n    <tr>\n      <th>2023-12-01</th>\n      <td>0.010108</td>\n      <td>0.019615</td>\n      <td>0.017470</td>\n      <td>-0.012658</td>\n      <td>0.004690</td>\n      <td>0.00105</td>\n      <td>-0.021881</td>\n    </tr>\n    <tr>\n      <th>2023-12-08</th>\n      <td>0.002140</td>\n      <td>0.010579</td>\n      <td>0.009969</td>\n      <td>-0.005301</td>\n      <td>0.003563</td>\n      <td>0.00105</td>\n      <td>-0.003411</td>\n    </tr>\n    <tr>\n      <th>2023-12-15</th>\n      <td>0.027117</td>\n      <td>0.020715</td>\n      <td>0.017806</td>\n      <td>-0.011688</td>\n      <td>0.006181</td>\n      <td>0.00105</td>\n      <td>-0.022346</td>\n    </tr>\n    <tr>\n      <th>2023-12-22</th>\n      <td>0.008518</td>\n      <td>0.020020</td>\n      <td>0.005484</td>\n      <td>-0.004967</td>\n      <td>-0.000707</td>\n      <td>0.00105</td>\n      <td>0.003913</td>\n    </tr>\n    <tr>\n      <th>2023-12-29</th>\n      <td>0.001980</td>\n      <td>-0.005294</td>\n      <td>0.001886</td>\n      <td>-0.002835</td>\n      <td>-0.002101</td>\n      <td>0.00084</td>\n      <td>-0.004903</td>\n    </tr>\n  </tbody>\n</table>\n<p>1043 rows × 7 columns</p>\n</div>"
     },
     "execution_count": 3,
     "metadata": {},
     "output_type": "execute_result"
    }
   ],
   "source": [
    "factor_returns"
   ],
   "metadata": {
    "collapsed": false,
    "ExecuteTime": {
     "end_time": "2025-01-31T16:45:33.956503Z",
     "start_time": "2025-01-31T16:45:33.952506Z"
    }
   },
   "id": "5b1f3094c53dca3"
  },
  {
   "cell_type": "code",
   "execution_count": 17,
   "outputs": [
    {
     "data": {
      "text/plain": "            p_value  <0.05\nmktrf  3.909139e-02   True\nsmb    5.858622e-01  False\nhml    7.056810e-01  False\nrmw    1.335556e-01  False\ncma    8.788835e-01  False\nrf     6.260281e-53   True\numd    8.844147e-01  False",
      "text/html": "<div>\n<style scoped>\n    .dataframe tbody tr th:only-of-type {\n        vertical-align: middle;\n    }\n\n    .dataframe tbody tr th {\n        vertical-align: top;\n    }\n\n    .dataframe thead th {\n        text-align: right;\n    }\n</style>\n<table border=\"1\" class=\"dataframe\">\n  <thead>\n    <tr style=\"text-align: right;\">\n      <th></th>\n      <th>p_value</th>\n      <th>&lt;0.05</th>\n    </tr>\n  </thead>\n  <tbody>\n    <tr>\n      <th>mktrf</th>\n      <td>3.909139e-02</td>\n      <td>True</td>\n    </tr>\n    <tr>\n      <th>smb</th>\n      <td>5.858622e-01</td>\n      <td>False</td>\n    </tr>\n    <tr>\n      <th>hml</th>\n      <td>7.056810e-01</td>\n      <td>False</td>\n    </tr>\n    <tr>\n      <th>rmw</th>\n      <td>1.335556e-01</td>\n      <td>False</td>\n    </tr>\n    <tr>\n      <th>cma</th>\n      <td>8.788835e-01</td>\n      <td>False</td>\n    </tr>\n    <tr>\n      <th>rf</th>\n      <td>6.260281e-53</td>\n      <td>True</td>\n    </tr>\n    <tr>\n      <th>umd</th>\n      <td>8.844147e-01</td>\n      <td>False</td>\n    </tr>\n  </tbody>\n</table>\n</div>"
     },
     "execution_count": 17,
     "metadata": {},
     "output_type": "execute_result"
    }
   ],
   "source": [
    "# t-test for factor returns\n",
    "from scipy import stats\n",
    "t_test = stats.ttest_1samp(factor_returns[\"2013-12-31\":], popmean=0)\n",
    "test_result = pd.DataFrame(t_test.pvalue, columns=['p_value'])\n",
    "test_result.index = factor_returns.columns\n",
    "test_result['<0.05'] = test_result['p_value'] < 0.05\n",
    "test_result\n"
   ],
   "metadata": {
    "collapsed": false,
    "ExecuteTime": {
     "end_time": "2025-01-31T18:23:02.802707Z",
     "start_time": "2025-01-31T18:23:02.796510Z"
    }
   },
   "id": "787a317d783b9223"
  },
  {
   "cell_type": "code",
   "execution_count": 5,
   "outputs": [
    {
     "data": {
      "text/plain": "                                                     p_value  <0.05\nExcess Return on the Market                         0.022223   True\nSmall-Minus-Big Return                              0.815371  False\nHigh-Minus-Low Return                               0.954349  False\nRobust Minus Weak Return                            0.012811   True\nConservative Minus Aggressive Return                0.836199  False\nRisk-Free Return Rate (One Month Treasury Bill ...  0.000000   True\nMomentum                                            0.788448  False",
      "text/html": "<div>\n<style scoped>\n    .dataframe tbody tr th:only-of-type {\n        vertical-align: middle;\n    }\n\n    .dataframe tbody tr th {\n        vertical-align: top;\n    }\n\n    .dataframe thead th {\n        text-align: right;\n    }\n</style>\n<table border=\"1\" class=\"dataframe\">\n  <thead>\n    <tr style=\"text-align: right;\">\n      <th></th>\n      <th>p_value</th>\n      <th>&lt;0.05</th>\n    </tr>\n  </thead>\n  <tbody>\n    <tr>\n      <th>Excess Return on the Market</th>\n      <td>0.022223</td>\n      <td>True</td>\n    </tr>\n    <tr>\n      <th>Small-Minus-Big Return</th>\n      <td>0.815371</td>\n      <td>False</td>\n    </tr>\n    <tr>\n      <th>High-Minus-Low Return</th>\n      <td>0.954349</td>\n      <td>False</td>\n    </tr>\n    <tr>\n      <th>Robust Minus Weak Return</th>\n      <td>0.012811</td>\n      <td>True</td>\n    </tr>\n    <tr>\n      <th>Conservative Minus Aggressive Return</th>\n      <td>0.836199</td>\n      <td>False</td>\n    </tr>\n    <tr>\n      <th>Risk-Free Return Rate (One Month Treasury Bill Rate)</th>\n      <td>0.000000</td>\n      <td>True</td>\n    </tr>\n    <tr>\n      <th>Momentum</th>\n      <td>0.788448</td>\n      <td>False</td>\n    </tr>\n  </tbody>\n</table>\n</div>"
     },
     "execution_count": 5,
     "metadata": {},
     "output_type": "execute_result"
    }
   ],
   "source": [
    "# raw factor returns\n",
    "raw_factor_returns = pd.read_excel('data/raw_factor_returns.xlsx', index_col=0, parse_dates=True)\n",
    "t_test = stats.ttest_1samp(raw_factor_returns, popmean=0)\n",
    "test_result = pd.DataFrame(t_test.pvalue, columns=['p_value'])\n",
    "test_result.index = raw_factor_returns.columns\n",
    "test_result['<0.05'] = test_result['p_value'] < 0.05\n",
    "test_result\n"
   ],
   "metadata": {
    "collapsed": false,
    "ExecuteTime": {
     "end_time": "2025-01-31T16:45:34.482805Z",
     "start_time": "2025-01-31T16:45:34.261904Z"
    }
   },
   "id": "40e425422249bafa"
  },
  {
   "cell_type": "code",
   "execution_count": 8,
   "outputs": [
    {
     "data": {
      "text/plain": "<Axes: >"
     },
     "execution_count": 8,
     "metadata": {},
     "output_type": "execute_result"
    },
    {
     "data": {
      "text/plain": "<Figure size 640x480 with 1 Axes>",
      "image/png": "[encoded data removed]"
     },
     "metadata": {},
     "output_type": "display_data"
    }
   ],
   "source": [
    "factor_returns['smb'].hist(bins=100)"
   ],
   "metadata": {
    "collapsed": false,
    "ExecuteTime": {
     "end_time": "2025-01-31T16:47:35.828411Z",
     "start_time": "2025-01-31T16:47:35.758524Z"
    }
   },
   "id": "f3f322d42eeb55b6"
  },
  {
   "cell_type": "code",
   "execution_count": 9,
   "outputs": [
    {
     "data": {
      "text/plain": "TtestResult(statistic=np.float64(0.23947832968935495), pvalue=np.float64(0.8107817946585592), df=np.int64(1042))"
     },
     "execution_count": 9,
     "metadata": {},
     "output_type": "execute_result"
    }
   ],
   "source": [
    "stats.ttest_1samp(factor_returns['smb'], popmean=0)"
   ],
   "metadata": {
    "collapsed": false,
    "ExecuteTime": {
     "end_time": "2025-01-31T16:48:09.148767Z",
     "start_time": "2025-01-31T16:48:09.135230Z"
    }
   },
   "id": "d5fb02ccb77beabc"
  },
  {
   "cell_type": "code",
   "execution_count": null,
   "outputs": [],
   "source": [],
   "metadata": {
    "collapsed": false
   },
   "id": "fc84aea79cfa9711"
  }
 ],
 "metadata": {
  "kernelspec": {
   "display_name": "Python 3",
   "language": "python",
   "name": "python3"
  },
  "language_info": {
   "codemirror_mode": {
    "name": "ipython",
    "version": 2
   },
   "file_extension": ".py",
   "mimetype": "text/x-python",
   "name": "python",
   "nbconvert_exporter": "python",
   "pygments_lexer": "ipython2",
   "version": "2.7.6"
  }
 },
 "nbformat": 4,
 "nbformat_minor": 5
}
