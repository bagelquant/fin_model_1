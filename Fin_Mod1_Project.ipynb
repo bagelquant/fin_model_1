{
  "nbformat": 4,
  "nbformat_minor": 0,
  "metadata": {
    "colab": {
      "provenance": []
    },
    "kernelspec": {
      "name": "python3",
      "display_name": "Python 3"
    },
    "language_info": {
      "name": "python"
    }
  },
  "cells": [
    {
      "cell_type": "code",
      "source": [
        "import pandas as pd\n",
        "import numpy as np"
      ],
      "metadata": {
        "id": "FbUCWzN1v5nE"
      },
      "execution_count": 1,
      "outputs": []
    },
    {
      "cell_type": "code",
      "source": [
        "portfolio_weights = {\n",
        "    'AAPL': 0.1,\n",
        "    'MSFT': 0.2,\n",
        "    'GOOGL': 0.15,\n",
        "    'AMZN': 0.1,\n",
        "    'TSLA': 0.05\n",
        "    # all 30 DJIA stocks here\n",
        "}\n",
        "\n",
        "closing_prices = {\n",
        "    'AAPL': 168,\n",
        "    'MSFT': 268,\n",
        "    'GOOGL': 2920,\n",
        "    'AMZN': 3520,\n",
        "    'TSLA': 820\n",
        "    # all 30 DJIA stocks\n",
        "}\n",
        "\n",
        "investment_amount = 1_000_000  # $1 million\n",
        "leverage = 1.5  # additional $0.5 million borrowed\n",
        "portfolio_value = investment_amount * leverage\n",
        "\n",
        "annual_t_bills_rate = 4.29 / 100  # 30 Jan, 2025 - last data available\n",
        "weekly_t_bills_rate = annual_t_bills_rate / 52\n",
        "\n",
        "transaction_cost = 0.002  # given, 20bps\n",
        "\n",
        "# initial investment in each stock and T-bills\n",
        "initial_investment = {stock: weight * portfolio_value for stock, weight in portfolio_weights.items()}\n",
        "stock_cost = sum(initial_investment.values())\n",
        "\n",
        "# Deduct transaction costs - 0.2% of total stock cost\n",
        "final_stock_cost = stock_cost * (1 + transaction_cost)\n",
        "\n",
        "# remaining funds to be invested in T-bills\n",
        "t_bills = portfolio_value - final_stock_cost\n",
        "\n",
        "t_bills_weekly_return = t_bills * weekly_t_bills_rate\n",
        "\n",
        "print(\"Initial Investment in Each Stock:\")\n",
        "for stock, investment in initial_investment.items():\n",
        "    print(f\"{stock}: ${investment:,.2f}\")\n",
        "\n",
        "print(f\"\\nTotal Stock Cost (with fees): ${final_stock_cost:,.2f}\")\n",
        "print(f\"Remaining Funds in T-Bills: ${t_bills:,.2f}\")\n",
        "print(f\"Weekly T-Bills Return: ${t_bills_weekly_return:,.2f}\")"
      ],
      "metadata": {
        "colab": {
          "base_uri": "https://localhost:8080/"
        },
        "id": "s2bg-tqt25YM",
        "outputId": "aa00b8b7-1b40-4ca8-ea7e-59f682496ba2"
      },
      "execution_count": 6,
      "outputs": [
        {
          "output_type": "stream",
          "name": "stdout",
          "text": [
            "Initial Investment in Each Stock:\n",
            "AAPL: $150,000.00\n",
            "MSFT: $300,000.00\n",
            "GOOGL: $225,000.00\n",
            "AMZN: $150,000.00\n",
            "TSLA: $75,000.00\n",
            "\n",
            "Total Stock Cost (with fees): $901,800.00\n",
            "Remaining Funds in T-Bills: $598,200.00\n",
            "Weekly T-Bills Return: $493.51\n"
          ]
        }
      ]
    }
  ]
}