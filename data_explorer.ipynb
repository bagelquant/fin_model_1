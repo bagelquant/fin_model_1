{
 "cells": [
  {
   "cell_type": "markdown",
   "source": [
    "# Data explore\n",
    "\n",
    "- Transpose stock returns -> save to `data/stock_returns.csv` \n",
    "- Index return series -> save to `data/DJIA.csv`\n",
    "- Factor returns -> save to `data/factor_returns.csv`"
   ],
   "metadata": {
    "collapsed": false
   },
   "id": "fa29bae014db5aa9"
  },
  {
   "cell_type": "markdown",
   "source": [
    "## Import raw data"
   ],
   "metadata": {
    "collapsed": false
   },
   "id": "37198f0038ae9c16"
  },
  {
   "cell_type": "code",
   "execution_count": 44,
   "outputs": [],
   "source": [
    "import pandas as pd\n",
    "raw_stock_returns = pd.read_excel('data/raw_daily_returns.xlsx')\n",
    "stock_list = pd.read_excel('data/stock_list.xlsx')\n",
    "raw_djia = pd.read_csv('data/Dow Jones Industrial Average Historical Data.csv')\n",
    "raw_factor_returns = pd.read_excel('data/raw_factor_returns.xlsx')"
   ],
   "metadata": {
    "collapsed": false,
    "ExecuteTime": {
     "end_time": "2025-01-31T15:47:01.581235Z",
     "start_time": "2025-01-31T15:46:57.912789Z"
    }
   },
   "id": "7b01bb7578574f71"
  },
  {
   "cell_type": "markdown",
   "source": [
    "## Stock returns\n",
    "\n",
    "The raw_data downloaded from WRDS has extra ticker or company names. First we observed which ticker or name is redundant, then we drop the redundant columns."
   ],
   "metadata": {
    "collapsed": false
   },
   "id": "95c2059c574d5639"
  },
  {
   "cell_type": "code",
   "execution_count": 45,
   "outputs": [
    {
     "data": {
      "text/plain": "   permno       date ticker            name   returns\n0   10107 2003-12-31   MSFT  MICROSOFT CORP -0.005451\n1   10107 2004-01-02   MSFT  MICROSOFT CORP  0.002923\n2   10107 2004-01-05   MSFT  MICROSOFT CORP  0.025137\n3   10107 2004-01-06   MSFT  MICROSOFT CORP  0.003554",
      "text/html": "<div>\n<style scoped>\n    .dataframe tbody tr th:only-of-type {\n        vertical-align: middle;\n    }\n\n    .dataframe tbody tr th {\n        vertical-align: top;\n    }\n\n    .dataframe thead th {\n        text-align: right;\n    }\n</style>\n<table border=\"1\" class=\"dataframe\">\n  <thead>\n    <tr style=\"text-align: right;\">\n      <th></th>\n      <th>permno</th>\n      <th>date</th>\n      <th>ticker</th>\n      <th>name</th>\n      <th>returns</th>\n    </tr>\n  </thead>\n  <tbody>\n    <tr>\n      <th>0</th>\n      <td>10107</td>\n      <td>2003-12-31</td>\n      <td>MSFT</td>\n      <td>MICROSOFT CORP</td>\n      <td>-0.005451</td>\n    </tr>\n    <tr>\n      <th>1</th>\n      <td>10107</td>\n      <td>2004-01-02</td>\n      <td>MSFT</td>\n      <td>MICROSOFT CORP</td>\n      <td>0.002923</td>\n    </tr>\n    <tr>\n      <th>2</th>\n      <td>10107</td>\n      <td>2004-01-05</td>\n      <td>MSFT</td>\n      <td>MICROSOFT CORP</td>\n      <td>0.025137</td>\n    </tr>\n    <tr>\n      <th>3</th>\n      <td>10107</td>\n      <td>2004-01-06</td>\n      <td>MSFT</td>\n      <td>MICROSOFT CORP</td>\n      <td>0.003554</td>\n    </tr>\n  </tbody>\n</table>\n</div>"
     },
     "execution_count": 45,
     "metadata": {},
     "output_type": "execute_result"
    }
   ],
   "source": [
    "# Rename the columns\n",
    "raw_stock_returns.columns = ['permno', 'date', 'ticker', 'name', 'returns']\n",
    "raw_stock_returns.head(4)\n"
   ],
   "metadata": {
    "collapsed": false,
    "ExecuteTime": {
     "end_time": "2025-01-31T15:47:01.586360Z",
     "start_time": "2025-01-31T15:47:01.583786Z"
    }
   },
   "id": "33144db4b2c87493"
  },
  {
   "cell_type": "code",
   "execution_count": 46,
   "outputs": [
    {
     "name": "stdout",
     "output_type": "stream",
     "text": [
      "Number of unique tickers:  34\n",
      "Number of unique permno:  33\n",
      "Number of unique names:  42\n"
     ]
    },
    {
     "data": {
      "text/plain": "        permno ticker                              name\n0        10107   MSFT                    MICROSOFT CORP\n5034     10145    HON       HONEYWELL INTERNATIONAL INC\n10068    11308     KO                      COCA COLA CO\n15102    12490    IBM  INTERNATIONAL BUSINESS MACHS COR\n20136    14008   AMGN                         AMGEN INC\n25170    14541    CVX                CHEVRONTEXACO CORP\n25511    14541    CVX                  CHEVRON CORP NEW\n30204    14593   AAPL                APPLE COMPUTER INC\n30966    14593   AAPL                         APPLE INC\n35238    16424      G                       GILLETTE CO\n35681    18163     PG               PROCTER & GAMBLE CO\n40715    18542    CAT                   CATERPILLAR INC\n45749    19561     BA                         BOEING CO\n50783    22111    JNJ                 JOHNSON & JOHNSON\n55817    22592    MMM                             3M CO\n60851    22752    MRK                    MERCK & CO INC\n62323    22752    MRK                MERCK & CO INC NEW\n65885    26403    DIS                    DISNEY WALT CO\n70919    36468    SHW               SHERWIN WILLIAMS CO\n75953    43449    MCD                    MCDONALDS CORP\n80987    47896    JPM             J P MORGAN CHASE & CO\n81130    47896    JPM               JPMORGAN CHASE & CO\n86021    57665    NKE                          NIKE INC\n91055    59176    AXP               AMERICAN EXPRESS CO\n96089    66181     HD                    HOME DEPOT INC\n101123   76076   CSCO                 CISCO SYSTEMS INC\n106157   84788   AMZN                    AMAZON COM INC\n111191   86580   NVDA                       NVIDIA CORP\n116225   86868     GS           GOLDMAN SACHS GROUP INC\n121259   90215    CRM                SALESFORCE COM INC\n125736   90215    CRM                    SALESFORCE INC\n126174   55976    WMT               WAL MART STORES INC\n129720   55976    WMT                       WALMART INC\n131208   59459    SPC                   ST PAUL COS INC\n131272   59459    STA         ST PAUL TRAVELERS COS INC\n132001   59459    TRV           TRAVELERS COMPANIES INC\n136242   65875     VZ        VERIZON COMMUNICATIONS INC\n141276   70519      C                     CITIGROUP INC\n146310   88614      V                 VIVENDI UNIVERSAL\n146891   88614      V                           VIVENDI\n146964   92611      V                          VISA INC\n150938   92655    UNH            UNITEDHEALTH GROUP INC",
      "text/html": "<div>\n<style scoped>\n    .dataframe tbody tr th:only-of-type {\n        vertical-align: middle;\n    }\n\n    .dataframe tbody tr th {\n        vertical-align: top;\n    }\n\n    .dataframe thead th {\n        text-align: right;\n    }\n</style>\n<table border=\"1\" class=\"dataframe\">\n  <thead>\n    <tr style=\"text-align: right;\">\n      <th></th>\n      <th>permno</th>\n      <th>ticker</th>\n      <th>name</th>\n    </tr>\n  </thead>\n  <tbody>\n    <tr>\n      <th>0</th>\n      <td>10107</td>\n      <td>MSFT</td>\n      <td>MICROSOFT CORP</td>\n    </tr>\n    <tr>\n      <th>5034</th>\n      <td>10145</td>\n      <td>HON</td>\n      <td>HONEYWELL INTERNATIONAL INC</td>\n    </tr>\n    <tr>\n      <th>10068</th>\n      <td>11308</td>\n      <td>KO</td>\n      <td>COCA COLA CO</td>\n    </tr>\n    <tr>\n      <th>15102</th>\n      <td>12490</td>\n      <td>IBM</td>\n      <td>INTERNATIONAL BUSINESS MACHS COR</td>\n    </tr>\n    <tr>\n      <th>20136</th>\n      <td>14008</td>\n      <td>AMGN</td>\n      <td>AMGEN INC</td>\n    </tr>\n    <tr>\n      <th>25170</th>\n      <td>14541</td>\n      <td>CVX</td>\n      <td>CHEVRONTEXACO CORP</td>\n    </tr>\n    <tr>\n      <th>25511</th>\n      <td>14541</td>\n      <td>CVX</td>\n      <td>CHEVRON CORP NEW</td>\n    </tr>\n    <tr>\n      <th>30204</th>\n      <td>14593</td>\n      <td>AAPL</td>\n      <td>APPLE COMPUTER INC</td>\n    </tr>\n    <tr>\n      <th>30966</th>\n      <td>14593</td>\n      <td>AAPL</td>\n      <td>APPLE INC</td>\n    </tr>\n    <tr>\n      <th>35238</th>\n      <td>16424</td>\n      <td>G</td>\n      <td>GILLETTE CO</td>\n    </tr>\n    <tr>\n      <th>35681</th>\n      <td>18163</td>\n      <td>PG</td>\n      <td>PROCTER &amp; GAMBLE CO</td>\n    </tr>\n    <tr>\n      <th>40715</th>\n      <td>18542</td>\n      <td>CAT</td>\n      <td>CATERPILLAR INC</td>\n    </tr>\n    <tr>\n      <th>45749</th>\n      <td>19561</td>\n      <td>BA</td>\n      <td>BOEING CO</td>\n    </tr>\n    <tr>\n      <th>50783</th>\n      <td>22111</td>\n      <td>JNJ</td>\n      <td>JOHNSON &amp; JOHNSON</td>\n    </tr>\n    <tr>\n      <th>55817</th>\n      <td>22592</td>\n      <td>MMM</td>\n      <td>3M CO</td>\n    </tr>\n    <tr>\n      <th>60851</th>\n      <td>22752</td>\n      <td>MRK</td>\n      <td>MERCK &amp; CO INC</td>\n    </tr>\n    <tr>\n      <th>62323</th>\n      <td>22752</td>\n      <td>MRK</td>\n      <td>MERCK &amp; CO INC NEW</td>\n    </tr>\n    <tr>\n      <th>65885</th>\n      <td>26403</td>\n      <td>DIS</td>\n      <td>DISNEY WALT CO</td>\n    </tr>\n    <tr>\n      <th>70919</th>\n      <td>36468</td>\n      <td>SHW</td>\n      <td>SHERWIN WILLIAMS CO</td>\n    </tr>\n    <tr>\n      <th>75953</th>\n      <td>43449</td>\n      <td>MCD</td>\n      <td>MCDONALDS CORP</td>\n    </tr>\n    <tr>\n      <th>80987</th>\n      <td>47896</td>\n      <td>JPM</td>\n      <td>J P MORGAN CHASE &amp; CO</td>\n    </tr>\n    <tr>\n      <th>81130</th>\n      <td>47896</td>\n      <td>JPM</td>\n      <td>JPMORGAN CHASE &amp; CO</td>\n    </tr>\n    <tr>\n      <th>86021</th>\n      <td>57665</td>\n      <td>NKE</td>\n      <td>NIKE INC</td>\n    </tr>\n    <tr>\n      <th>91055</th>\n      <td>59176</td>\n      <td>AXP</td>\n      <td>AMERICAN EXPRESS CO</td>\n    </tr>\n    <tr>\n      <th>96089</th>\n      <td>66181</td>\n      <td>HD</td>\n      <td>HOME DEPOT INC</td>\n    </tr>\n    <tr>\n      <th>101123</th>\n      <td>76076</td>\n      <td>CSCO</td>\n      <td>CISCO SYSTEMS INC</td>\n    </tr>\n    <tr>\n      <th>106157</th>\n      <td>84788</td>\n      <td>AMZN</td>\n      <td>AMAZON COM INC</td>\n    </tr>\n    <tr>\n      <th>111191</th>\n      <td>86580</td>\n      <td>NVDA</td>\n      <td>NVIDIA CORP</td>\n    </tr>\n    <tr>\n      <th>116225</th>\n      <td>86868</td>\n      <td>GS</td>\n      <td>GOLDMAN SACHS GROUP INC</td>\n    </tr>\n    <tr>\n      <th>121259</th>\n      <td>90215</td>\n      <td>CRM</td>\n      <td>SALESFORCE COM INC</td>\n    </tr>\n    <tr>\n      <th>125736</th>\n      <td>90215</td>\n      <td>CRM</td>\n      <td>SALESFORCE INC</td>\n    </tr>\n    <tr>\n      <th>126174</th>\n      <td>55976</td>\n      <td>WMT</td>\n      <td>WAL MART STORES INC</td>\n    </tr>\n    <tr>\n      <th>129720</th>\n      <td>55976</td>\n      <td>WMT</td>\n      <td>WALMART INC</td>\n    </tr>\n    <tr>\n      <th>131208</th>\n      <td>59459</td>\n      <td>SPC</td>\n      <td>ST PAUL COS INC</td>\n    </tr>\n    <tr>\n      <th>131272</th>\n      <td>59459</td>\n      <td>STA</td>\n      <td>ST PAUL TRAVELERS COS INC</td>\n    </tr>\n    <tr>\n      <th>132001</th>\n      <td>59459</td>\n      <td>TRV</td>\n      <td>TRAVELERS COMPANIES INC</td>\n    </tr>\n    <tr>\n      <th>136242</th>\n      <td>65875</td>\n      <td>VZ</td>\n      <td>VERIZON COMMUNICATIONS INC</td>\n    </tr>\n    <tr>\n      <th>141276</th>\n      <td>70519</td>\n      <td>C</td>\n      <td>CITIGROUP INC</td>\n    </tr>\n    <tr>\n      <th>146310</th>\n      <td>88614</td>\n      <td>V</td>\n      <td>VIVENDI UNIVERSAL</td>\n    </tr>\n    <tr>\n      <th>146891</th>\n      <td>88614</td>\n      <td>V</td>\n      <td>VIVENDI</td>\n    </tr>\n    <tr>\n      <th>146964</th>\n      <td>92611</td>\n      <td>V</td>\n      <td>VISA INC</td>\n    </tr>\n    <tr>\n      <th>150938</th>\n      <td>92655</td>\n      <td>UNH</td>\n      <td>UNITEDHEALTH GROUP INC</td>\n    </tr>\n  </tbody>\n</table>\n</div>"
     },
     "execution_count": 46,
     "metadata": {},
     "output_type": "execute_result"
    }
   ],
   "source": [
    "# Get unique names and its corresponding tickers\n",
    "print(\"Number of unique tickers: \", raw_stock_returns['ticker'].nunique())\n",
    "print(\"Number of unique permno: \", raw_stock_returns['permno'].nunique())\n",
    "print(\"Number of unique names: \", raw_stock_returns['name'].nunique())\n",
    "names = raw_stock_returns[['permno', 'ticker', 'name']].drop_duplicates()\n",
    "names\n"
   ],
   "metadata": {
    "collapsed": false,
    "ExecuteTime": {
     "end_time": "2025-01-31T15:47:01.640616Z",
     "start_time": "2025-01-31T15:47:01.589863Z"
    }
   },
   "id": "58bc2692c45bb414"
  },
  {
   "cell_type": "code",
   "execution_count": 47,
   "outputs": [
    {
     "data": {
      "text/plain": "   Symbol             Company\n0     MMM                  3M\n1     AXP    American Express\n2    AMGN               Amgen\n3    AMZN              Amazon\n4    AAPL               Apple\n5      BA              Boeing\n6     CAT         Caterpillar\n7     CVX             Chevron\n8    CSCO               Cisco\n9      KO           Coca-Cola\n10    DIS              Disney\n11     GS       Goldman Sachs\n12     HD          Home Depot\n13    HON           Honeywell\n14    IBM                 IBM\n15    JNJ   Johnson & Johnson\n16    JPM      JPMorgan Chase\n17    MCD     McDonald&apos;s\n18    MRK               Merck\n19   MSFT           Microsoft\n20    NKE                Nike\n21   NVDA              Nvidia\n22     PG    Procter & Gamble\n23    CRM          Salesforce\n24    SHW    Sherwin-Williams\n25    TRV           Travelers\n26    UNH  UnitedHealth Group\n27     VZ             Verizon\n28      V                Visa\n29    WMT             Walmart",
      "text/html": "<div>\n<style scoped>\n    .dataframe tbody tr th:only-of-type {\n        vertical-align: middle;\n    }\n\n    .dataframe tbody tr th {\n        vertical-align: top;\n    }\n\n    .dataframe thead th {\n        text-align: right;\n    }\n</style>\n<table border=\"1\" class=\"dataframe\">\n  <thead>\n    <tr style=\"text-align: right;\">\n      <th></th>\n      <th>Symbol</th>\n      <th>Company</th>\n    </tr>\n  </thead>\n  <tbody>\n    <tr>\n      <th>0</th>\n      <td>MMM</td>\n      <td>3M</td>\n    </tr>\n    <tr>\n      <th>1</th>\n      <td>AXP</td>\n      <td>American Express</td>\n    </tr>\n    <tr>\n      <th>2</th>\n      <td>AMGN</td>\n      <td>Amgen</td>\n    </tr>\n    <tr>\n      <th>3</th>\n      <td>AMZN</td>\n      <td>Amazon</td>\n    </tr>\n    <tr>\n      <th>4</th>\n      <td>AAPL</td>\n      <td>Apple</td>\n    </tr>\n    <tr>\n      <th>5</th>\n      <td>BA</td>\n      <td>Boeing</td>\n    </tr>\n    <tr>\n      <th>6</th>\n      <td>CAT</td>\n      <td>Caterpillar</td>\n    </tr>\n    <tr>\n      <th>7</th>\n      <td>CVX</td>\n      <td>Chevron</td>\n    </tr>\n    <tr>\n      <th>8</th>\n      <td>CSCO</td>\n      <td>Cisco</td>\n    </tr>\n    <tr>\n      <th>9</th>\n      <td>KO</td>\n      <td>Coca-Cola</td>\n    </tr>\n    <tr>\n      <th>10</th>\n      <td>DIS</td>\n      <td>Disney</td>\n    </tr>\n    <tr>\n      <th>11</th>\n      <td>GS</td>\n      <td>Goldman Sachs</td>\n    </tr>\n    <tr>\n      <th>12</th>\n      <td>HD</td>\n      <td>Home Depot</td>\n    </tr>\n    <tr>\n      <th>13</th>\n      <td>HON</td>\n      <td>Honeywell</td>\n    </tr>\n    <tr>\n      <th>14</th>\n      <td>IBM</td>\n      <td>IBM</td>\n    </tr>\n    <tr>\n      <th>15</th>\n      <td>JNJ</td>\n      <td>Johnson &amp; Johnson</td>\n    </tr>\n    <tr>\n      <th>16</th>\n      <td>JPM</td>\n      <td>JPMorgan Chase</td>\n    </tr>\n    <tr>\n      <th>17</th>\n      <td>MCD</td>\n      <td>McDonald&amp;apos;s</td>\n    </tr>\n    <tr>\n      <th>18</th>\n      <td>MRK</td>\n      <td>Merck</td>\n    </tr>\n    <tr>\n      <th>19</th>\n      <td>MSFT</td>\n      <td>Microsoft</td>\n    </tr>\n    <tr>\n      <th>20</th>\n      <td>NKE</td>\n      <td>Nike</td>\n    </tr>\n    <tr>\n      <th>21</th>\n      <td>NVDA</td>\n      <td>Nvidia</td>\n    </tr>\n    <tr>\n      <th>22</th>\n      <td>PG</td>\n      <td>Procter &amp; Gamble</td>\n    </tr>\n    <tr>\n      <th>23</th>\n      <td>CRM</td>\n      <td>Salesforce</td>\n    </tr>\n    <tr>\n      <th>24</th>\n      <td>SHW</td>\n      <td>Sherwin-Williams</td>\n    </tr>\n    <tr>\n      <th>25</th>\n      <td>TRV</td>\n      <td>Travelers</td>\n    </tr>\n    <tr>\n      <th>26</th>\n      <td>UNH</td>\n      <td>UnitedHealth Group</td>\n    </tr>\n    <tr>\n      <th>27</th>\n      <td>VZ</td>\n      <td>Verizon</td>\n    </tr>\n    <tr>\n      <th>28</th>\n      <td>V</td>\n      <td>Visa</td>\n    </tr>\n    <tr>\n      <th>29</th>\n      <td>WMT</td>\n      <td>Walmart</td>\n    </tr>\n  </tbody>\n</table>\n</div>"
     },
     "execution_count": 47,
     "metadata": {},
     "output_type": "execute_result"
    }
   ],
   "source": [
    "stock_list[['Symbol', 'Company']]"
   ],
   "metadata": {
    "collapsed": false,
    "ExecuteTime": {
     "end_time": "2025-01-31T15:47:01.640959Z",
     "start_time": "2025-01-31T15:47:01.619980Z"
    }
   },
   "id": "348fac6a3abf906b"
  },
  {
   "cell_type": "code",
   "execution_count": 48,
   "outputs": [
    {
     "data": {
      "text/plain": "        permno ticker                              name\n0        10107   MSFT                    MICROSOFT CORP\n5034     10145    HON       HONEYWELL INTERNATIONAL INC\n10068    11308     KO                      COCA COLA CO\n15102    12490    IBM  INTERNATIONAL BUSINESS MACHS COR\n20136    14008   AMGN                         AMGEN INC\n25170    14541    CVX                CHEVRONTEXACO CORP\n25511    14541    CVX                  CHEVRON CORP NEW\n30204    14593   AAPL                APPLE COMPUTER INC\n30966    14593   AAPL                         APPLE INC\n35238    16424      G                       GILLETTE CO\n35681    18163     PG               PROCTER & GAMBLE CO\n40715    18542    CAT                   CATERPILLAR INC\n45749    19561     BA                         BOEING CO\n50783    22111    JNJ                 JOHNSON & JOHNSON\n55817    22592    MMM                             3M CO\n60851    22752    MRK                    MERCK & CO INC\n62323    22752    MRK                MERCK & CO INC NEW\n65885    26403    DIS                    DISNEY WALT CO\n70919    36468    SHW               SHERWIN WILLIAMS CO\n75953    43449    MCD                    MCDONALDS CORP\n80987    47896    JPM             J P MORGAN CHASE & CO\n81130    47896    JPM               JPMORGAN CHASE & CO\n86021    57665    NKE                          NIKE INC\n91055    59176    AXP               AMERICAN EXPRESS CO\n96089    66181     HD                    HOME DEPOT INC\n101123   76076   CSCO                 CISCO SYSTEMS INC\n106157   84788   AMZN                    AMAZON COM INC\n111191   86580   NVDA                       NVIDIA CORP\n116225   86868     GS           GOLDMAN SACHS GROUP INC\n121259   90215    CRM                SALESFORCE COM INC\n125736   90215    CRM                    SALESFORCE INC\n126174   55976    WMT               WAL MART STORES INC\n129720   55976    WMT                       WALMART INC\n131208   59459    SPC                   ST PAUL COS INC\n131272   59459    STA         ST PAUL TRAVELERS COS INC\n132001   59459    TRV           TRAVELERS COMPANIES INC\n136242   65875     VZ        VERIZON COMMUNICATIONS INC\n141276   70519      C                     CITIGROUP INC\n146310   88614      V                 VIVENDI UNIVERSAL\n146891   88614      V                           VIVENDI\n146964   92611      V                          VISA INC\n150938   92655    UNH            UNITEDHEALTH GROUP INC",
      "text/html": "<div>\n<style scoped>\n    .dataframe tbody tr th:only-of-type {\n        vertical-align: middle;\n    }\n\n    .dataframe tbody tr th {\n        vertical-align: top;\n    }\n\n    .dataframe thead th {\n        text-align: right;\n    }\n</style>\n<table border=\"1\" class=\"dataframe\">\n  <thead>\n    <tr style=\"text-align: right;\">\n      <th></th>\n      <th>permno</th>\n      <th>ticker</th>\n      <th>name</th>\n    </tr>\n  </thead>\n  <tbody>\n    <tr>\n      <th>0</th>\n      <td>10107</td>\n      <td>MSFT</td>\n      <td>MICROSOFT CORP</td>\n    </tr>\n    <tr>\n      <th>5034</th>\n      <td>10145</td>\n      <td>HON</td>\n      <td>HONEYWELL INTERNATIONAL INC</td>\n    </tr>\n    <tr>\n      <th>10068</th>\n      <td>11308</td>\n      <td>KO</td>\n      <td>COCA COLA CO</td>\n    </tr>\n    <tr>\n      <th>15102</th>\n      <td>12490</td>\n      <td>IBM</td>\n      <td>INTERNATIONAL BUSINESS MACHS COR</td>\n    </tr>\n    <tr>\n      <th>20136</th>\n      <td>14008</td>\n      <td>AMGN</td>\n      <td>AMGEN INC</td>\n    </tr>\n    <tr>\n      <th>25170</th>\n      <td>14541</td>\n      <td>CVX</td>\n      <td>CHEVRONTEXACO CORP</td>\n    </tr>\n    <tr>\n      <th>25511</th>\n      <td>14541</td>\n      <td>CVX</td>\n      <td>CHEVRON CORP NEW</td>\n    </tr>\n    <tr>\n      <th>30204</th>\n      <td>14593</td>\n      <td>AAPL</td>\n      <td>APPLE COMPUTER INC</td>\n    </tr>\n    <tr>\n      <th>30966</th>\n      <td>14593</td>\n      <td>AAPL</td>\n      <td>APPLE INC</td>\n    </tr>\n    <tr>\n      <th>35238</th>\n      <td>16424</td>\n      <td>G</td>\n      <td>GILLETTE CO</td>\n    </tr>\n    <tr>\n      <th>35681</th>\n      <td>18163</td>\n      <td>PG</td>\n      <td>PROCTER &amp; GAMBLE CO</td>\n    </tr>\n    <tr>\n      <th>40715</th>\n      <td>18542</td>\n      <td>CAT</td>\n      <td>CATERPILLAR INC</td>\n    </tr>\n    <tr>\n      <th>45749</th>\n      <td>19561</td>\n      <td>BA</td>\n      <td>BOEING CO</td>\n    </tr>\n    <tr>\n      <th>50783</th>\n      <td>22111</td>\n      <td>JNJ</td>\n      <td>JOHNSON &amp; JOHNSON</td>\n    </tr>\n    <tr>\n      <th>55817</th>\n      <td>22592</td>\n      <td>MMM</td>\n      <td>3M CO</td>\n    </tr>\n    <tr>\n      <th>60851</th>\n      <td>22752</td>\n      <td>MRK</td>\n      <td>MERCK &amp; CO INC</td>\n    </tr>\n    <tr>\n      <th>62323</th>\n      <td>22752</td>\n      <td>MRK</td>\n      <td>MERCK &amp; CO INC NEW</td>\n    </tr>\n    <tr>\n      <th>65885</th>\n      <td>26403</td>\n      <td>DIS</td>\n      <td>DISNEY WALT CO</td>\n    </tr>\n    <tr>\n      <th>70919</th>\n      <td>36468</td>\n      <td>SHW</td>\n      <td>SHERWIN WILLIAMS CO</td>\n    </tr>\n    <tr>\n      <th>75953</th>\n      <td>43449</td>\n      <td>MCD</td>\n      <td>MCDONALDS CORP</td>\n    </tr>\n    <tr>\n      <th>80987</th>\n      <td>47896</td>\n      <td>JPM</td>\n      <td>J P MORGAN CHASE &amp; CO</td>\n    </tr>\n    <tr>\n      <th>81130</th>\n      <td>47896</td>\n      <td>JPM</td>\n      <td>JPMORGAN CHASE &amp; CO</td>\n    </tr>\n    <tr>\n      <th>86021</th>\n      <td>57665</td>\n      <td>NKE</td>\n      <td>NIKE INC</td>\n    </tr>\n    <tr>\n      <th>91055</th>\n      <td>59176</td>\n      <td>AXP</td>\n      <td>AMERICAN EXPRESS CO</td>\n    </tr>\n    <tr>\n      <th>96089</th>\n      <td>66181</td>\n      <td>HD</td>\n      <td>HOME DEPOT INC</td>\n    </tr>\n    <tr>\n      <th>101123</th>\n      <td>76076</td>\n      <td>CSCO</td>\n      <td>CISCO SYSTEMS INC</td>\n    </tr>\n    <tr>\n      <th>106157</th>\n      <td>84788</td>\n      <td>AMZN</td>\n      <td>AMAZON COM INC</td>\n    </tr>\n    <tr>\n      <th>111191</th>\n      <td>86580</td>\n      <td>NVDA</td>\n      <td>NVIDIA CORP</td>\n    </tr>\n    <tr>\n      <th>116225</th>\n      <td>86868</td>\n      <td>GS</td>\n      <td>GOLDMAN SACHS GROUP INC</td>\n    </tr>\n    <tr>\n      <th>121259</th>\n      <td>90215</td>\n      <td>CRM</td>\n      <td>SALESFORCE COM INC</td>\n    </tr>\n    <tr>\n      <th>125736</th>\n      <td>90215</td>\n      <td>CRM</td>\n      <td>SALESFORCE INC</td>\n    </tr>\n    <tr>\n      <th>126174</th>\n      <td>55976</td>\n      <td>WMT</td>\n      <td>WAL MART STORES INC</td>\n    </tr>\n    <tr>\n      <th>129720</th>\n      <td>55976</td>\n      <td>WMT</td>\n      <td>WALMART INC</td>\n    </tr>\n    <tr>\n      <th>131208</th>\n      <td>59459</td>\n      <td>SPC</td>\n      <td>ST PAUL COS INC</td>\n    </tr>\n    <tr>\n      <th>131272</th>\n      <td>59459</td>\n      <td>STA</td>\n      <td>ST PAUL TRAVELERS COS INC</td>\n    </tr>\n    <tr>\n      <th>132001</th>\n      <td>59459</td>\n      <td>TRV</td>\n      <td>TRAVELERS COMPANIES INC</td>\n    </tr>\n    <tr>\n      <th>136242</th>\n      <td>65875</td>\n      <td>VZ</td>\n      <td>VERIZON COMMUNICATIONS INC</td>\n    </tr>\n    <tr>\n      <th>141276</th>\n      <td>70519</td>\n      <td>C</td>\n      <td>CITIGROUP INC</td>\n    </tr>\n    <tr>\n      <th>146310</th>\n      <td>88614</td>\n      <td>V</td>\n      <td>VIVENDI UNIVERSAL</td>\n    </tr>\n    <tr>\n      <th>146891</th>\n      <td>88614</td>\n      <td>V</td>\n      <td>VIVENDI</td>\n    </tr>\n    <tr>\n      <th>146964</th>\n      <td>92611</td>\n      <td>V</td>\n      <td>VISA INC</td>\n    </tr>\n    <tr>\n      <th>150938</th>\n      <td>92655</td>\n      <td>UNH</td>\n      <td>UNITEDHEALTH GROUP INC</td>\n    </tr>\n  </tbody>\n</table>\n</div>"
     },
     "execution_count": 48,
     "metadata": {},
     "output_type": "execute_result"
    }
   ],
   "source": [
    "names"
   ],
   "metadata": {
    "collapsed": false,
    "ExecuteTime": {
     "end_time": "2025-01-31T15:47:01.641227Z",
     "start_time": "2025-01-31T15:47:01.624011Z"
    }
   },
   "id": "b9956404e5246f67"
  },
  {
   "cell_type": "markdown",
   "source": [
    "## Factor returns\n",
    "\n",
    "1. Change the column(factors) names\n",
    "    - Excess Return on the Market: `mktrf`\n",
    "    - Small-Minus-Big: `smb`\n",
    "    - High-Minus-Low: `hml`\n",
    "    - Robust Minus Weak: `rmw`\n",
    "    - Conservative Minus Aggressive: `cma`\n",
    "    - Momentum: `umd`\n",
    "    - Risk-Free Rate: `rf`\n",
    "2. date to index\n",
    "3. Calculate the accumulated return\n",
    "4. Change the freq from daily to weekly, use Friday as the date\n",
    "5. Calculate the weekly return\n",
    "6. Save to `data/factor_returns.csv`"
   ],
   "metadata": {
    "collapsed": false
   },
   "id": "c7719dfdd19b7ba4"
  },
  {
   "cell_type": "code",
   "execution_count": 49,
   "outputs": [
    {
     "data": {
      "text/plain": "               mktrf       smb       hml       rmw       cma      umd  \\\ndate                                                                    \n2004-01-09  0.014692  0.011545  0.011837 -0.031015  0.027469  0.00015   \n2004-01-16  0.017361  0.009913  0.009712 -0.021018  0.018302  0.00015   \n2004-01-23  0.003278  0.007970  0.007807  0.013115 -0.010812  0.00012   \n2004-01-30 -0.011946 -0.013974 -0.009902  0.009665 -0.008218  0.00015   \n2004-02-06  0.009092 -0.004665 -0.001827  0.008969 -0.005498  0.00015   \n\n                  rf  \ndate                  \n2004-01-09  0.024227  \n2004-01-16  0.016675  \n2004-01-23 -0.012367  \n2004-01-30 -0.012953  \n2004-02-06 -0.002957  ",
      "text/html": "<div>\n<style scoped>\n    .dataframe tbody tr th:only-of-type {\n        vertical-align: middle;\n    }\n\n    .dataframe tbody tr th {\n        vertical-align: top;\n    }\n\n    .dataframe thead th {\n        text-align: right;\n    }\n</style>\n<table border=\"1\" class=\"dataframe\">\n  <thead>\n    <tr style=\"text-align: right;\">\n      <th></th>\n      <th>mktrf</th>\n      <th>smb</th>\n      <th>hml</th>\n      <th>rmw</th>\n      <th>cma</th>\n      <th>umd</th>\n      <th>rf</th>\n    </tr>\n    <tr>\n      <th>date</th>\n      <th></th>\n      <th></th>\n      <th></th>\n      <th></th>\n      <th></th>\n      <th></th>\n      <th></th>\n    </tr>\n  </thead>\n  <tbody>\n    <tr>\n      <th>2004-01-09</th>\n      <td>0.014692</td>\n      <td>0.011545</td>\n      <td>0.011837</td>\n      <td>-0.031015</td>\n      <td>0.027469</td>\n      <td>0.00015</td>\n      <td>0.024227</td>\n    </tr>\n    <tr>\n      <th>2004-01-16</th>\n      <td>0.017361</td>\n      <td>0.009913</td>\n      <td>0.009712</td>\n      <td>-0.021018</td>\n      <td>0.018302</td>\n      <td>0.00015</td>\n      <td>0.016675</td>\n    </tr>\n    <tr>\n      <th>2004-01-23</th>\n      <td>0.003278</td>\n      <td>0.007970</td>\n      <td>0.007807</td>\n      <td>0.013115</td>\n      <td>-0.010812</td>\n      <td>0.00012</td>\n      <td>-0.012367</td>\n    </tr>\n    <tr>\n      <th>2004-01-30</th>\n      <td>-0.011946</td>\n      <td>-0.013974</td>\n      <td>-0.009902</td>\n      <td>0.009665</td>\n      <td>-0.008218</td>\n      <td>0.00015</td>\n      <td>-0.012953</td>\n    </tr>\n    <tr>\n      <th>2004-02-06</th>\n      <td>0.009092</td>\n      <td>-0.004665</td>\n      <td>-0.001827</td>\n      <td>0.008969</td>\n      <td>-0.005498</td>\n      <td>0.00015</td>\n      <td>-0.002957</td>\n    </tr>\n  </tbody>\n</table>\n</div>"
     },
     "execution_count": 49,
     "metadata": {},
     "output_type": "execute_result"
    }
   ],
   "source": [
    "raw_factor_returns.columns = ['date', 'mktrf', 'smb', 'hml', 'rmw', 'cma', 'umd', 'rf']\n",
    "raw_factor_returns['date'] = pd.to_datetime(raw_factor_returns['date'])\n",
    "raw_factor_returns = raw_factor_returns.set_index('date')\n",
    "\n",
    "# accumulated return\n",
    "factor_accumulated_returns = (1 + raw_factor_returns).cumprod()\n",
    "# resample to weekly\n",
    "factor_accumulated_returns = factor_accumulated_returns.resample('W-FRI').last()\n",
    "\n",
    "# Weekly return\n",
    "factor_returns = factor_accumulated_returns.pct_change().dropna()\n",
    "# Save to data\n",
    "factor_returns.to_csv('data/factor_returns.csv')\n",
    "\n",
    "factor_returns.head()"
   ],
   "metadata": {
    "collapsed": false,
    "ExecuteTime": {
     "end_time": "2025-01-31T15:47:01.662930Z",
     "start_time": "2025-01-31T15:47:01.630176Z"
    }
   },
   "id": "26353a60c80c0c02"
  },
  {
   "cell_type": "markdown",
   "source": [
    "## DJIA weekly return"
   ],
   "metadata": {
    "collapsed": false
   },
   "id": "66f5d20a0983a5a"
  },
  {
   "cell_type": "code",
   "execution_count": 54,
   "outputs": [
    {
     "data": {
      "text/plain": "         Date      Price       Open       High        Low   Vol. Change %\n0  01/26/2025  44,896.53  44,026.27  45,054.36  44,026.27  3.74B    1.06%\n1  01/19/2025  44,424.25  43,528.65  44,565.26  43,528.65  2.16B    2.15%\n2  01/12/2025  43,487.83  41,924.68  43,653.25  41,844.89  2.50B    3.69%\n3  01/05/2025  41,938.45  42,835.52  43,115.31  41,877.30  2.19B   -1.86%\n4  12/29/2024  42,732.13  42,863.86  42,905.09  42,174.80  1.66B   -0.60%",
      "text/html": "<div>\n<style scoped>\n    .dataframe tbody tr th:only-of-type {\n        vertical-align: middle;\n    }\n\n    .dataframe tbody tr th {\n        vertical-align: top;\n    }\n\n    .dataframe thead th {\n        text-align: right;\n    }\n</style>\n<table border=\"1\" class=\"dataframe\">\n  <thead>\n    <tr style=\"text-align: right;\">\n      <th></th>\n      <th>Date</th>\n      <th>Price</th>\n      <th>Open</th>\n      <th>High</th>\n      <th>Low</th>\n      <th>Vol.</th>\n      <th>Change %</th>\n    </tr>\n  </thead>\n  <tbody>\n    <tr>\n      <th>0</th>\n      <td>01/26/2025</td>\n      <td>44,896.53</td>\n      <td>44,026.27</td>\n      <td>45,054.36</td>\n      <td>44,026.27</td>\n      <td>3.74B</td>\n      <td>1.06%</td>\n    </tr>\n    <tr>\n      <th>1</th>\n      <td>01/19/2025</td>\n      <td>44,424.25</td>\n      <td>43,528.65</td>\n      <td>44,565.26</td>\n      <td>43,528.65</td>\n      <td>2.16B</td>\n      <td>2.15%</td>\n    </tr>\n    <tr>\n      <th>2</th>\n      <td>01/12/2025</td>\n      <td>43,487.83</td>\n      <td>41,924.68</td>\n      <td>43,653.25</td>\n      <td>41,844.89</td>\n      <td>2.50B</td>\n      <td>3.69%</td>\n    </tr>\n    <tr>\n      <th>3</th>\n      <td>01/05/2025</td>\n      <td>41,938.45</td>\n      <td>42,835.52</td>\n      <td>43,115.31</td>\n      <td>41,877.30</td>\n      <td>2.19B</td>\n      <td>-1.86%</td>\n    </tr>\n    <tr>\n      <th>4</th>\n      <td>12/29/2024</td>\n      <td>42,732.13</td>\n      <td>42,863.86</td>\n      <td>42,905.09</td>\n      <td>42,174.80</td>\n      <td>1.66B</td>\n      <td>-0.60%</td>\n    </tr>\n  </tbody>\n</table>\n</div>"
     },
     "execution_count": 54,
     "metadata": {},
     "output_type": "execute_result"
    }
   ],
   "source": [
    "raw_djia.head()"
   ],
   "metadata": {
    "collapsed": false,
    "ExecuteTime": {
     "end_time": "2025-01-31T15:48:40.194579Z",
     "start_time": "2025-01-31T15:48:40.187185Z"
    }
   },
   "id": "79662d2fe3d9088"
  },
  {
   "cell_type": "code",
   "execution_count": 57,
   "outputs": [
    {
     "data": {
      "text/plain": "                djia\ndate                \n2004-01-16  0.013541\n2004-01-23 -0.003039\n2004-01-30 -0.007591\n2004-02-06  0.010008\n2004-02-13  0.003287\n...              ...\n2025-01-03 -0.006049\n2025-01-10 -0.018573\n2025-01-17  0.036944\n2025-01-24  0.021533\n2025-01-31  0.010631\n\n[1099 rows x 1 columns]",
      "text/html": "<div>\n<style scoped>\n    .dataframe tbody tr th:only-of-type {\n        vertical-align: middle;\n    }\n\n    .dataframe tbody tr th {\n        vertical-align: top;\n    }\n\n    .dataframe thead th {\n        text-align: right;\n    }\n</style>\n<table border=\"1\" class=\"dataframe\">\n  <thead>\n    <tr style=\"text-align: right;\">\n      <th></th>\n      <th>djia</th>\n    </tr>\n    <tr>\n      <th>date</th>\n      <th></th>\n    </tr>\n  </thead>\n  <tbody>\n    <tr>\n      <th>2004-01-16</th>\n      <td>0.013541</td>\n    </tr>\n    <tr>\n      <th>2004-01-23</th>\n      <td>-0.003039</td>\n    </tr>\n    <tr>\n      <th>2004-01-30</th>\n      <td>-0.007591</td>\n    </tr>\n    <tr>\n      <th>2004-02-06</th>\n      <td>0.010008</td>\n    </tr>\n    <tr>\n      <th>2004-02-13</th>\n      <td>0.003287</td>\n    </tr>\n    <tr>\n      <th>...</th>\n      <td>...</td>\n    </tr>\n    <tr>\n      <th>2025-01-03</th>\n      <td>-0.006049</td>\n    </tr>\n    <tr>\n      <th>2025-01-10</th>\n      <td>-0.018573</td>\n    </tr>\n    <tr>\n      <th>2025-01-17</th>\n      <td>0.036944</td>\n    </tr>\n    <tr>\n      <th>2025-01-24</th>\n      <td>0.021533</td>\n    </tr>\n    <tr>\n      <th>2025-01-31</th>\n      <td>0.010631</td>\n    </tr>\n  </tbody>\n</table>\n<p>1099 rows × 1 columns</p>\n</div>"
     },
     "execution_count": 57,
     "metadata": {},
     "output_type": "execute_result"
    }
   ],
   "source": [
    "djia_close = raw_djia[['Date', 'Price']].copy()\n",
    "djia_close.columns = ['date', 'close']\n",
    "djia_close['date'] = pd.to_datetime(djia_close['date'])\n",
    "djia_close = djia_close.set_index('date')\n",
    "# set the close to float\n",
    "djia_close['close'] = djia_close['close'].str.replace(',', '').astype(float)\n",
    "\n",
    "# resample to weekly\n",
    "djia_close = djia_close.resample('W-FRI').last()\n",
    "# Weekly return\n",
    "djia_returns = djia_close.pct_change().dropna()\n",
    "djia_returns.columns = ['djia']\n",
    "# Save to data\n",
    "djia_returns.to_csv('data/DJIA.csv')\n",
    "djia_returns"
   ],
   "metadata": {
    "collapsed": false,
    "ExecuteTime": {
     "end_time": "2025-01-31T15:50:12.034401Z",
     "start_time": "2025-01-31T15:50:12.009561Z"
    }
   },
   "id": "9a79e4019e6ad86"
  },
  {
   "cell_type": "code",
   "execution_count": 52,
   "outputs": [],
   "source": [],
   "metadata": {
    "collapsed": false,
    "ExecuteTime": {
     "end_time": "2025-01-31T15:47:01.683003Z",
     "start_time": "2025-01-31T15:47:01.665653Z"
    }
   },
   "id": "c5a85e5a66d11964"
  }
 ],
 "metadata": {
  "kernelspec": {
   "display_name": "Python 3",
   "language": "python",
   "name": "python3"
  },
  "language_info": {
   "codemirror_mode": {
    "name": "ipython",
    "version": 2
   },
   "file_extension": ".py",
   "mimetype": "text/x-python",
   "name": "python",
   "nbconvert_exporter": "python",
   "pygments_lexer": "ipython2",
   "version": "2.7.6"
  }
 },
 "nbformat": 4,
 "nbformat_minor": 5
}
